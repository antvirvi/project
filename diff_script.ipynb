{
 "cells": [
  {
   "cell_type": "code",
   "execution_count": 3,
   "metadata": {},
   "outputs": [
    {
     "name": "stderr",
     "output_type": "stream",
     "text": [
      "/home/panos/anaconda2/lib/python2.7/site-packages/ipykernel_launcher.py:8: DeprecationWarning: The sre module is deprecated, please import re.\n",
      "  \n"
     ]
    }
   ],
   "source": [
    "#!/scisoft/bin/python2.4 \n",
    "import time\n",
    "import urllib\n",
    "import urllib2\n",
    "import cookielib\n",
    "import ClientForm\n",
    "from HTMLParser import HTMLParser\n",
    "import sre\n",
    "      \n",
    "url = \"www.diffchecker.com\"\n",
    " \n",
    "etag = \"None\"\n",
    "user_agent = \"Mozilla/4.0 (compatible; MSIE 5.5; Windows NT\"\n",
    "protocol = 'https://'\n",
    "     \n",
    "\n"
   ]
  },
  {
   "cell_type": "code",
   "execution_count": 10,
   "metadata": {},
   "outputs": [
    {
     "name": "stdout",
     "output_type": "stream",
     "text": [
      "https://www.diffchecker.com\n",
      "Content-Type: text/html\r\n",
      "Content-Length: 20046\r\n",
      "Connection: close\r\n",
      "Server: Cowboy\r\n",
      "X-Powered-By: Next.js 4.1.4\r\n",
      "Cache-Control: public, max-age=3600\r\n",
      "ETag: \"4e4e-AsfGVfto8Y6I5Tf86/99m6RKWN4\"\r\n",
      "Date: Fri, 10 Nov 2017 04:44:14 GMT\r\n",
      "Via: 1.1 vegur, 1.1 1eb4c4d1a01293f27e472fcc60f7102d.cloudfront.net (CloudFront)\r\n",
      "Vary: Accept-Encoding\r\n",
      "Age: 3471\r\n",
      "X-Cache: Hit from cloudfront\r\n",
      "X-Amz-Cf-Id: CqWNtBckFhD-RcbPFYD5PpHTRmKJ_7WAQ_FOyeEnQTlQyFvhEIl1ng==\r\n",
      "\n",
      "[<ClientForm.HTMLForm instance at 0x7fad5003d638>]\n"
     ]
    }
   ],
   "source": [
    "                         #Create empty cookie jar.\n",
    "cj = cookielib.LWPCookieJar()\n",
    "opener = urllib2.build_opener(urllib2.HTTPCookieProcessor(cj))\n",
    "urllib2.install_opener(opener)\n",
    "     \n",
    "request1 = urllib2.Request(protocol+url, None)\n",
    "t1 = opener.open(request1)\n",
    "forms = ClientForm.ParseResponse(t1, backwards_compat=False)\n",
    "t1.close()\n",
    "     \n",
    "                  \n",
    "request1.add_header(\"User-Agent\", user_agent)\n",
    "response1 = opener.open(request1)\n",
    "              \n",
    "print t1.geturl()\n",
    "print t1.info()\n",
    "print forms"
   ]
  },
  {
   "cell_type": "code",
   "execution_count": 62,
   "metadata": {},
   "outputs": [
    {
     "ename": "ControlNotFoundError",
     "evalue": "no control matching name 'TextAreaControl'",
     "output_type": "error",
     "traceback": [
      "\u001b[0;31m---------------------------------------------------------------------------\u001b[0m",
      "\u001b[0;31mControlNotFoundError\u001b[0m                      Traceback (most recent call last)",
      "\u001b[0;32m<ipython-input-62-cff5dec87571>\u001b[0m in \u001b[0;36m<module>\u001b[0;34m()\u001b[0m\n\u001b[1;32m      4\u001b[0m \u001b[0ms\u001b[0m \u001b[0;34m=\u001b[0m \u001b[0mpath\u001b[0m\u001b[0;34m(\u001b[0m\u001b[0;34m'results.txt'\u001b[0m\u001b[0;34m)\u001b[0m\u001b[0;34m.\u001b[0m\u001b[0mbytes\u001b[0m\u001b[0;34m(\u001b[0m\u001b[0;34m)\u001b[0m\u001b[0;34m\u001b[0m\u001b[0m\n\u001b[1;32m      5\u001b[0m \u001b[0;34m\u001b[0m\u001b[0m\n\u001b[0;32m----> 6\u001b[0;31m \u001b[0mform\u001b[0m\u001b[0;34m[\u001b[0m\u001b[0;34m'TextAreaControl'\u001b[0m\u001b[0;34m]\u001b[0m  \u001b[0;34m=\u001b[0m \u001b[0ms\u001b[0m\u001b[0;34m\u001b[0m\u001b[0m\n\u001b[0m\u001b[1;32m      7\u001b[0m \u001b[0mrequest3\u001b[0m \u001b[0;34m=\u001b[0m \u001b[0mform\u001b[0m\u001b[0;34m.\u001b[0m\u001b[0mclick\u001b[0m\u001b[0;34m(\u001b[0m\u001b[0;34m)\u001b[0m\u001b[0;34m\u001b[0m\u001b[0m\n\u001b[1;32m      8\u001b[0m \u001b[0;34m\u001b[0m\u001b[0m\n",
      "\u001b[0;32m/home/panos/anaconda2/lib/python2.7/site-packages/ClientForm.pyc\u001b[0m in \u001b[0;36m__setitem__\u001b[0;34m(self, name, value)\u001b[0m\n\u001b[1;32m   2893\u001b[0m         \u001b[0;32mreturn\u001b[0m \u001b[0mbool\u001b[0m\u001b[0;34m(\u001b[0m\u001b[0mself\u001b[0m\u001b[0;34m.\u001b[0m\u001b[0mfind_control\u001b[0m\u001b[0;34m(\u001b[0m\u001b[0mname\u001b[0m\u001b[0;34m)\u001b[0m\u001b[0;34m)\u001b[0m\u001b[0;34m\u001b[0m\u001b[0m\n\u001b[1;32m   2894\u001b[0m     \u001b[0;32mdef\u001b[0m \u001b[0m__setitem__\u001b[0m\u001b[0;34m(\u001b[0m\u001b[0mself\u001b[0m\u001b[0;34m,\u001b[0m \u001b[0mname\u001b[0m\u001b[0;34m,\u001b[0m \u001b[0mvalue\u001b[0m\u001b[0;34m)\u001b[0m\u001b[0;34m:\u001b[0m\u001b[0;34m\u001b[0m\u001b[0m\n\u001b[0;32m-> 2895\u001b[0;31m         \u001b[0mcontrol\u001b[0m \u001b[0;34m=\u001b[0m \u001b[0mself\u001b[0m\u001b[0;34m.\u001b[0m\u001b[0mfind_control\u001b[0m\u001b[0;34m(\u001b[0m\u001b[0mname\u001b[0m\u001b[0;34m)\u001b[0m\u001b[0;34m\u001b[0m\u001b[0m\n\u001b[0m\u001b[1;32m   2896\u001b[0m         \u001b[0;32mtry\u001b[0m\u001b[0;34m:\u001b[0m\u001b[0;34m\u001b[0m\u001b[0m\n\u001b[1;32m   2897\u001b[0m             \u001b[0mcontrol\u001b[0m\u001b[0;34m.\u001b[0m\u001b[0mvalue\u001b[0m \u001b[0;34m=\u001b[0m \u001b[0mvalue\u001b[0m\u001b[0;34m\u001b[0m\u001b[0m\n",
      "\u001b[0;32m/home/panos/anaconda2/lib/python2.7/site-packages/ClientForm.pyc\u001b[0m in \u001b[0;36mfind_control\u001b[0;34m(self, name, type, kind, id, predicate, nr, label)\u001b[0m\n\u001b[1;32m   3220\u001b[0m             raise ValueError(\n\u001b[1;32m   3221\u001b[0m                 \"at least one argument must be supplied to specify control\")\n\u001b[0;32m-> 3222\u001b[0;31m         \u001b[0;32mreturn\u001b[0m \u001b[0mself\u001b[0m\u001b[0;34m.\u001b[0m\u001b[0m_find_control\u001b[0m\u001b[0;34m(\u001b[0m\u001b[0mname\u001b[0m\u001b[0;34m,\u001b[0m \u001b[0mtype\u001b[0m\u001b[0;34m,\u001b[0m \u001b[0mkind\u001b[0m\u001b[0;34m,\u001b[0m \u001b[0mid\u001b[0m\u001b[0;34m,\u001b[0m \u001b[0mlabel\u001b[0m\u001b[0;34m,\u001b[0m \u001b[0mpredicate\u001b[0m\u001b[0;34m,\u001b[0m \u001b[0mnr\u001b[0m\u001b[0;34m)\u001b[0m\u001b[0;34m\u001b[0m\u001b[0m\n\u001b[0m\u001b[1;32m   3223\u001b[0m \u001b[0;34m\u001b[0m\u001b[0m\n\u001b[1;32m   3224\u001b[0m \u001b[0;31m#---------------------------------------------------\u001b[0m\u001b[0;34m\u001b[0m\u001b[0;34m\u001b[0m\u001b[0m\n",
      "\u001b[0;32m/home/panos/anaconda2/lib/python2.7/site-packages/ClientForm.pyc\u001b[0m in \u001b[0;36m_find_control\u001b[0;34m(self, name, type, kind, id, label, predicate, nr)\u001b[0m\n\u001b[1;32m   3304\u001b[0m             \u001b[0;32mraise\u001b[0m \u001b[0mAmbiguityError\u001b[0m\u001b[0;34m(\u001b[0m\u001b[0;34m\"more than one control matching \"\u001b[0m\u001b[0;34m+\u001b[0m\u001b[0mdescription\u001b[0m\u001b[0;34m)\u001b[0m\u001b[0;34m\u001b[0m\u001b[0m\n\u001b[1;32m   3305\u001b[0m         \u001b[0;32melif\u001b[0m \u001b[0;32mnot\u001b[0m \u001b[0mfound\u001b[0m\u001b[0;34m:\u001b[0m\u001b[0;34m\u001b[0m\u001b[0m\n\u001b[0;32m-> 3306\u001b[0;31m             \u001b[0;32mraise\u001b[0m \u001b[0mControlNotFoundError\u001b[0m\u001b[0;34m(\u001b[0m\u001b[0;34m\"no control matching \"\u001b[0m\u001b[0;34m+\u001b[0m\u001b[0mdescription\u001b[0m\u001b[0;34m)\u001b[0m\u001b[0;34m\u001b[0m\u001b[0m\n\u001b[0m\u001b[1;32m   3307\u001b[0m         \u001b[0;32massert\u001b[0m \u001b[0mFalse\u001b[0m\u001b[0;34m\u001b[0m\u001b[0m\n\u001b[1;32m   3308\u001b[0m \u001b[0;34m\u001b[0m\u001b[0m\n",
      "\u001b[0;31mControlNotFoundError\u001b[0m: no control matching name 'TextAreaControl'"
     ]
    }
   ],
   "source": [
    "form = forms[0] \n",
    "#open results.txt file\n",
    "from path import path\n",
    "s = path('results.txt').bytes()\n",
    "\n",
    "form['TextAreaControl']  = s\n",
    "request3 = form.click()\n",
    "     \n",
    "request3.add_header('User-Agent', user_agent)\n",
    "request3.add_header('Referer', protocol+url2)\n",
    "request3.add_header('Charset', \"utf-8\")\n",
    "request3.add_header('If-None-Match', etag)\n",
    "request3.add_header('Content-type', \"text/html\")\n",
    "     \n",
    "#This is vital for the message to send correctly!!!\n",
    "time.sleep(2)\n",
    "     \n",
    "response2 = opener.open(request3)\n",
    "#print response2.info()  # headers\n",
    "#print 'This is the code :', response2.code\n",
    "##print response2.read()\n",
    "response2.close()\n",
    "     "
   ]
  },
  {
   "cell_type": "code",
   "execution_count": 33,
   "metadata": {
    "collapsed": true
   },
   "outputs": [],
   "source": [
    "import inspect"
   ]
  },
  {
   "cell_type": "code",
   "execution_count": 34,
   "metadata": {},
   "outputs": [
    {
     "data": {
      "text/plain": [
       "[('__doc__',\n",
       "  'Represents a single HTML <form> ... </form> element.\\n\\n    A form consists of a sequence of controls that usually have names, and\\n    which can take on various values.  The values of the various types of\\n    controls represent variously: text, zero-or-one-of-many or many-of-many\\n    choices, and files to be uploaded.  Some controls can be clicked on to\\n    submit the form, and clickable controls\\' values sometimes include the\\n    coordinates of the click.\\n\\n    Forms can be filled in with data to be returned to the server, and then\\n    submitted, using the click method to generate a request object suitable for\\n    passing to urllib2.urlopen (or the click_request_data or click_pairs\\n    methods if you\\'re not using urllib2).\\n\\n    import ClientForm\\n    forms = ClientForm.ParseFile(html, base_uri)\\n    form = forms[0]\\n\\n    form[\"query\"] = \"Python\"\\n    form.find_control(\"nr_results\").get(\"lots\").selected = True\\n\\n    response = urllib2.urlopen(form.click())\\n\\n    Usually, HTMLForm instances are not created directly.  Instead, the\\n    ParseFile or ParseResponse factory functions are used.  If you do construct\\n    HTMLForm objects yourself, however, note that an HTMLForm instance is only\\n    properly initialised after the fixup method has been called (ParseFile and\\n    ParseResponse do this for you).  See ListControl.__doc__ for the reason\\n    this is required.\\n\\n    Indexing a form (form[\"control_name\"]) returns the named Control\\'s value\\n    attribute.  Assignment to a form index (form[\"control_name\"] = something)\\n    is equivalent to assignment to the named Control\\'s value attribute.  If you\\n    need to be more specific than just supplying the control\\'s name, use the\\n    set_value and get_value methods.\\n\\n    ListControl values are lists of item names (specifically, the names of the\\n    items that are selected and not disabled, and hence are \"successful\" -- ie.\\n    cause data to be returned to the server).  The list item\\'s name is the\\n    value of the corresponding HTML element\\'s\"value\" attribute.\\n\\n    Example:\\n\\n      <INPUT type=\"CHECKBOX\" name=\"cheeses\" value=\"leicester\"></INPUT>\\n      <INPUT type=\"CHECKBOX\" name=\"cheeses\" value=\"cheddar\"></INPUT>\\n\\n    defines a CHECKBOX control with name \"cheeses\" which has two items, named\\n    \"leicester\" and \"cheddar\".\\n\\n    Another example:\\n\\n      <SELECT name=\"more_cheeses\">\\n        <OPTION>1</OPTION>\\n        <OPTION value=\"2\" label=\"CHEDDAR\">cheddar</OPTION>\\n      </SELECT>\\n\\n    defines a SELECT control with name \"more_cheeses\" which has two items,\\n    named \"1\" and \"2\" (because the OPTION element\\'s value HTML attribute\\n    defaults to the element contents -- see SelectControl.__doc__ for more on\\n    these defaulting rules).\\n\\n    To select, deselect or otherwise manipulate individual list items, use the\\n    HTMLForm.find_control() and ListControl.get() methods.  To set the whole\\n    value, do as for any other control: use indexing or the set_/get_value\\n    methods.\\n\\n    Example:\\n\\n    # select *only* the item named \"cheddar\"\\n    form[\"cheeses\"] = [\"cheddar\"]\\n    # select \"cheddar\", leave other items unaffected\\n    form.find_control(\"cheeses\").get(\"cheddar\").selected = True\\n\\n    Some controls (RADIO and SELECT without the multiple attribute) can only\\n    have zero or one items selected at a time.  Some controls (CHECKBOX and\\n    SELECT with the multiple attribute) can have multiple items selected at a\\n    time.  To set the whole value of a ListControl, assign a sequence to a form\\n    index:\\n\\n    form[\"cheeses\"] = [\"cheddar\", \"leicester\"]\\n\\n    If the ListControl is not multiple-selection, the assigned list must be of\\n    length one.\\n\\n    To check if a control has an item, if an item is selected, or if an item is\\n    successful (selected and not disabled), respectively:\\n\\n    \"cheddar\" in [item.name for item in form.find_control(\"cheeses\").items]\\n    \"cheddar\" in [item.name for item in form.find_control(\"cheeses\").items and\\n                  item.selected]\\n    \"cheddar\" in form[\"cheeses\"]  # (or \"cheddar\" in form.get_value(\"cheeses\"))\\n\\n    Note that some list items may be disabled (see below).\\n\\n    Note the following mistake:\\n\\n    form[control_name] = control_value\\n    assert form[control_name] == control_value  # not necessarily true\\n\\n    The reason for this is that form[control_name] always gives the list items\\n    in the order they were listed in the HTML.\\n\\n    List items (hence list values, too) can be referred to in terms of list\\n    item labels rather than list item names using the appropriate label\\n    arguments.  Note that each item may have several labels.\\n\\n    The question of default values of OPTION contents, labels and values is\\n    somewhat complicated: see SelectControl.__doc__ and\\n    ListControl.get_item_attrs.__doc__ if you think you need to know.\\n\\n    Controls can be disabled or readonly.  In either case, the control\\'s value\\n    cannot be changed until you clear those flags (see example below).\\n    Disabled is the state typically represented by browsers by \\'greying out\\' a\\n    control.  Disabled controls are not \\'successful\\' -- they don\\'t cause data\\n    to get returned to the server.  Readonly controls usually appear in\\n    browsers as read-only text boxes.  Readonly controls are successful.  List\\n    items can also be disabled.  Attempts to select or deselect disabled items\\n    fail with AttributeError.\\n\\n    If a lot of controls are readonly, it can be useful to do this:\\n\\n    form.set_all_readonly(False)\\n\\n    To clear a control\\'s value attribute, so that it is not successful (until a\\n    value is subsequently set):\\n\\n    form.clear(\"cheeses\")\\n\\n    More examples:\\n\\n    control = form.find_control(\"cheeses\")\\n    control.disabled = False\\n    control.readonly = False\\n    control.get(\"gruyere\").disabled = True\\n    control.items[0].selected = True\\n\\n    See the various Control classes for further documentation.  Many methods\\n    take name, type, kind, id, label and nr arguments to specify the control to\\n    be operated on: see HTMLForm.find_control.__doc__.\\n\\n    ControlNotFoundError (subclass of ValueError) is raised if the specified\\n    control can\\'t be found.  This includes occasions where a non-ListControl\\n    is found, but the method (set, for example) requires a ListControl.\\n    ItemNotFoundError (subclass of ValueError) is raised if a list item can\\'t\\n    be found.  ItemCountError (subclass of ValueError) is raised if an attempt\\n    is made to select more than one item and the control doesn\\'t allow that, or\\n    set/get_single are called and the control contains more than one item.\\n    AttributeError is raised if a control or item is readonly or disabled and\\n    an attempt is made to alter its value.\\n\\n    Security note: Remember that any passwords you store in HTMLForm instances\\n    will be saved to disk in the clear if you pickle them (directly or\\n    indirectly).  The simplest solution to this is to avoid pickling HTMLForm\\n    objects.  You could also pickle before filling in any password, or just set\\n    the password to \"\" before pickling.\\n\\n\\n    Public attributes:\\n\\n    action: full (absolute URI) form action\\n    method: \"GET\" or \"POST\"\\n    enctype: form transfer encoding MIME type\\n    name: name of form (None if no name was specified)\\n    attrs: dictionary mapping original HTML form attributes to their values\\n\\n    controls: list of Control instances; do not alter this list\\n     (instead, call form.new_control to make a Control and add it to the\\n     form, or control.add_to_form if you already have a Control instance)\\n\\n\\n\\n    Methods for form filling:\\n    -------------------------\\n\\n    Most of the these methods have very similar arguments.  See\\n    HTMLForm.find_control.__doc__ for details of the name, type, kind, label\\n    and nr arguments.\\n\\n    def find_control(self,\\n                     name=None, type=None, kind=None, id=None, predicate=None,\\n                     nr=None, label=None)\\n\\n    get_value(name=None, type=None, kind=None, id=None, nr=None,\\n              by_label=False,  # by_label is deprecated\\n              label=None)\\n    set_value(value,\\n              name=None, type=None, kind=None, id=None, nr=None,\\n              by_label=False,  # by_label is deprecated\\n              label=None)\\n\\n    clear_all()\\n    clear(name=None, type=None, kind=None, id=None, nr=None, label=None)\\n\\n    set_all_readonly(readonly)\\n\\n\\n    Method applying only to FileControls:\\n\\n    add_file(file_object,\\n             content_type=\"application/octet-stream\", filename=None,\\n             name=None, id=None, nr=None, label=None)\\n\\n\\n    Methods applying only to clickable controls:\\n\\n    click(name=None, type=None, id=None, nr=0, coord=(1,1), label=None)\\n    click_request_data(name=None, type=None, id=None, nr=0, coord=(1,1),\\n                       label=None)\\n    click_pairs(name=None, type=None, id=None, nr=0, coord=(1,1), label=None)\\n\\n    '),\n",
       " ('__module__', 'ClientForm'),\n",
       " ('_backwards_compat', False),\n",
       " ('_forms',\n",
       "  [<ClientForm.HTMLForm instance at 0x7fad5003d518>,\n",
       "   <ClientForm.HTMLForm instance at 0x7fad5003d638>]),\n",
       " ('_id_to_labels', {}),\n",
       " ('_labels', []),\n",
       " ('_request_class', <class urllib2.Request at 0x7fad501ce870>),\n",
       " ('action', 'https://www.diffchecker.com'),\n",
       " ('attrs', {'class': 'jsx-1519759245', 'name': 'diff-form'}),\n",
       " ('controls',\n",
       "  [<ClientForm.TextareaControl instance at 0x7fad5003d5f0>,\n",
       "   <ClientForm.TextareaControl instance at 0x7fad5003d5a8>,\n",
       "   <ClientForm.SelectControl instance at 0x7fad5003d4d0>,\n",
       "   <ClientForm.SubmitButtonControl instance at 0x7fad5003dd88>]),\n",
       " ('enctype', 'application/x-www-form-urlencoded'),\n",
       " ('method', 'GET'),\n",
       " ('name', 'diff-form'),\n",
       " ('type2class',\n",
       "  {'button': <class ClientForm.IgnoreControl at 0x7fad500f2530>,\n",
       "   'buttonbutton': <class ClientForm.IgnoreControl at 0x7fad500f2530>,\n",
       "   'checkbox': <class ClientForm.CheckboxControl at 0x7fad500f26d0>,\n",
       "   'file': <class ClientForm.FileControl at 0x7fad500f2460>,\n",
       "   'hidden': <class ClientForm.HiddenControl at 0x7fad500f28d8>,\n",
       "   'image': <class ClientForm.ImageControl at 0x7fad500f2808>,\n",
       "   'isindex': <class ClientForm.IsindexControl at 0x7fad500f24c8>,\n",
       "   'password': <class ClientForm.PasswordControl at 0x7fad500f2870>,\n",
       "   'radio': <class ClientForm.RadioControl at 0x7fad500f2668>,\n",
       "   'reset': <class ClientForm.IgnoreControl at 0x7fad500f2530>,\n",
       "   'resetbutton': <class ClientForm.IgnoreControl at 0x7fad500f2530>,\n",
       "   'select': <class ClientForm.SelectControl at 0x7fad500f2738>,\n",
       "   'submit': <class ClientForm.SubmitControl at 0x7fad500f27a0>,\n",
       "   'submitbutton': <class ClientForm.SubmitButtonControl at 0x7fad500f29a8>,\n",
       "   'text': <class ClientForm.TextControl at 0x7fad500f23f8>,\n",
       "   'textarea': <class ClientForm.TextareaControl at 0x7fad500f2940>})]"
      ]
     },
     "execution_count": 34,
     "metadata": {},
     "output_type": "execute_result"
    }
   ],
   "source": [
    "inspect.getmembers(form, lambda a:not(inspect.isroutine(a)))"
   ]
  },
  {
   "cell_type": "code",
   "execution_count": 57,
   "metadata": {},
   "outputs": [
    {
     "name": "stdout",
     "output_type": "stream",
     "text": [
      "ClientForm.TextControl\n"
     ]
    }
   ],
   "source": [
    "print form.type2class['text']"
   ]
  },
  {
   "cell_type": "code",
   "execution_count": null,
   "metadata": {
    "collapsed": true
   },
   "outputs": [],
   "source": []
  }
 ],
 "metadata": {
  "kernelspec": {
   "display_name": "Python 2",
   "language": "python",
   "name": "python2"
  },
  "language_info": {
   "codemirror_mode": {
    "name": "ipython",
    "version": 2
   },
   "file_extension": ".py",
   "mimetype": "text/x-python",
   "name": "python",
   "nbconvert_exporter": "python",
   "pygments_lexer": "ipython2",
   "version": "2.7.13"
  }
 },
 "nbformat": 4,
 "nbformat_minor": 2
}
